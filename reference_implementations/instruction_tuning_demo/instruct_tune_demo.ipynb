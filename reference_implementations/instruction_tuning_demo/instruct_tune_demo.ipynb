{
 "cells": [
  {
   "cell_type": "markdown",
   "id": "sexual-taxation",
   "metadata": {},
   "source": [
    "# Instruction-Tuning Demo\n",
    "In this demonstration, we will instruction-tune the [Flan-T5 Small model](https://huggingface.co/google/flan-t5-small) using the [SamSum dataset](https://huggingface.co/datasets/Samsung/samsum). The Flan-T5 model, developed by Google, is designed for various NLP tasks. The SamSum dataset, provided by Samsung, contains conversational summaries which are ideal for training summarization models."
   ]
  },
  {
   "cell_type": "markdown",
   "id": "norwegian-forestry",
   "metadata": {},
   "source": [
    "## Importing Libraries"
   ]
  },
  {
   "cell_type": "code",
   "execution_count": null,
   "id": "aaeeb27e-4eb5-46c9-a2eb-e72502cf9176",
   "metadata": {},
   "outputs": [],
   "source": [
    "from typing import List, Union\n",
    "\n",
    "import evaluate\n",
    "import nltk\n",
    "import torch\n",
    "from datasets import DatasetDict, concatenate_datasets, load_dataset\n",
    "from tqdm import tqdm\n",
    "from transformers import (\n",
    "    AutoModelForSeq2SeqLM,\n",
    "    AutoTokenizer,\n",
    "    DataCollatorForSeq2Seq,\n",
    "    Seq2SeqTrainer,\n",
    "    Seq2SeqTrainingArguments,\n",
    ")\n",
    "\n",
    "nltk.download(\"punkt\")\n"
   ]
  },
  {
   "cell_type": "markdown",
   "id": "apart-aluminum",
   "metadata": {},
   "source": [
    "## Configuring Paths"
   ]
  },
  {
   "cell_type": "code",
   "execution_count": null,
   "id": "voluntary-vancouver",
   "metadata": {},
   "outputs": [],
   "source": [
    "OUTPUT_DIR = \"../../scratch/instruct/\" # main directory of the the demo output"
   ]
  },
  {
   "cell_type": "code",
   "execution_count": null,
   "id": "sufficient-niagara",
   "metadata": {},
   "outputs": [],
   "source": [
    "MODEL_NAME = \"google/flan-t5-small\"\n",
    "DATASET_NAME = \"samsum\""
   ]
  },
  {
   "cell_type": "markdown",
   "id": "6f5214b1-6891-4822-a019-bb60000f5121",
   "metadata": {},
   "source": [
    "## Preprocessing Data"
   ]
  },
  {
   "cell_type": "code",
   "execution_count": null,
   "id": "fe52ec97-4e46-44c7-ac14-c1f59f85d048",
   "metadata": {},
   "outputs": [],
   "source": [
    "def get_samsum_data(tokenizer: AutoTokenizer) -> List[Union[DatasetDict, int, int]]:\n",
    "    # Load dataset from the hub\n",
    "    dataset = load_dataset(DATASET_NAME)\n",
    "\n",
    "    print(f\"Train dataset size: {len(dataset['train'])}\")\n",
    "    print(f\"Test dataset size: {len(dataset['test'])}\")\n",
    "\n",
    "    tokenized_inputs = concatenate_datasets([dataset[\"train\"], dataset[\"test\"]]).map(\n",
    "        lambda x: tokenizer(x[\"dialogue\"], truncation=True),\n",
    "        batched=True,\n",
    "        remove_columns=[\"dialogue\", \"summary\"],\n",
    "    )\n",
    "\n",
    "    max_source_length = max([len(x) for x in tokenized_inputs[\"input_ids\"]])\n",
    "    print(f\"Max source length: {max_source_length}\")\n",
    "\n",
    "    tokenized_targets = concatenate_datasets([dataset[\"train\"], dataset[\"test\"]]).map(\n",
    "        lambda x: tokenizer(x[\"summary\"], truncation=True),\n",
    "        batched=True,\n",
    "        remove_columns=[\"dialogue\", \"summary\"],\n",
    "    )\n",
    "\n",
    "    max_target_length = max([len(x) for x in tokenized_targets[\"input_ids\"]])\n",
    "    print(f\"Max target length: {max_target_length}\")\n",
    "\n",
    "    return dataset, max_source_length, max_target_length"
   ]
  },
  {
   "cell_type": "markdown",
   "id": "291c98a5-0492-4f35-89bc-fb2f5b1eb16a",
   "metadata": {},
   "source": [
    "## Tokenizing Data"
   ]
  },
  {
   "cell_type": "code",
   "execution_count": null,
   "id": "845683dd-00db-4624-a4c7-ddcf6dbfa8e3",
   "metadata": {},
   "outputs": [],
   "source": [
    "tokenizer = AutoTokenizer.from_pretrained(MODEL_NAME)"
   ]
  },
  {
   "cell_type": "markdown",
   "id": "37ee8414-0e67-4436-8f8f-f8546fd1a159",
   "metadata": {},
   "source": [
    "#### Define what the instruction should look like:"
   ]
  },
  {
   "cell_type": "code",
   "execution_count": null,
   "id": "4b5a0cd2-e2e4-41ac-a3aa-984f3cd54e74",
   "metadata": {},
   "outputs": [],
   "source": [
    "INSTRUCTION = \"Summarize the following conversation in at most 3 sentences: \""
   ]
  },
  {
   "cell_type": "code",
   "execution_count": null,
   "id": "7567edc5-4ace-4982-9d53-bf01b03990f1",
   "metadata": {},
   "outputs": [],
   "source": [
    "def preprocess_function(sample, padding=\"max_length\"):\n",
    "    # add prefix to the input for t5\n",
    "    inputs = [INSTRUCTION + item for item in sample[\"dialogue\"]]\n",
    "\n",
    "    # tokenize inputs\n",
    "    model_inputs = tokenizer(\n",
    "        inputs, max_length=max_source_length, padding=padding, truncation=True,\n",
    "    )\n",
    "\n",
    "    labels = tokenizer(\n",
    "        text_target=sample[\"summary\"],\n",
    "        max_length=max_target_length,\n",
    "        padding=padding,\n",
    "        truncation=True,\n",
    "    )\n",
    "\n",
    "    if padding == \"max_length\":\n",
    "        labels[\"input_ids\"] = [\n",
    "            [(l if l != tokenizer.pad_token_id else -100) for l in label]\n",
    "            for label in labels[\"input_ids\"]\n",
    "        ]\n",
    "\n",
    "    model_inputs[\"labels\"] = labels[\"input_ids\"]\n",
    "    return model_inputs\n",
    "\n",
    "dataset, max_source_length, max_target_length = get_samsum_data(tokenizer)\n",
    "\n",
    "tokenized_dataset = dataset.map(\n",
    "    preprocess_function, batched=True, remove_columns=[\"dialogue\", \"summary\", \"id\"],\n",
    ")\n",
    "print(f\"Keys of tokenized dataset: {list(tokenized_dataset['train'].features)}\")"
   ]
  },
  {
   "cell_type": "markdown",
   "id": "mighty-community",
   "metadata": {},
   "source": [
    "## Training the Model"
   ]
  },
  {
   "cell_type": "code",
   "execution_count": null,
   "id": "passive-hybrid",
   "metadata": {},
   "outputs": [],
   "source": [
    "model = AutoModelForSeq2SeqLM.from_pretrained(MODEL_NAME)\n",
    "\n",
    "# Define training args\n",
    "training_args = Seq2SeqTrainingArguments(\n",
    "    do_train=True,\n",
    "    do_eval=True,\n",
    "    evaluation_strategy=\"epoch\",\n",
    "    logging_strategy=\"epoch\",\n",
    "    save_strategy=\"no\",\n",
    "    per_device_eval_batch_size=8,\n",
    "    per_device_train_batch_size=8,\n",
    "    gradient_accumulation_steps=1,\n",
    "    output_dir=OUTPUT_DIR,\n",
    "    auto_find_batch_size=True,\n",
    "    learning_rate=1e-3,\n",
    "    num_train_epochs=0.1,\n",
    "    logging_dir=f\"{OUTPUT_DIR}/logs\",\n",
    "    report_to=\"none\",\n",
    ")\n",
    "\n",
    "# we want to ignore tokenizer pad token in the loss\n",
    "label_pad_token_id = -100\n",
    "# Data collator\n",
    "data_collator = DataCollatorForSeq2Seq(\n",
    "    tokenizer,\n",
    "    model=model,\n",
    "    label_pad_token_id=label_pad_token_id,\n",
    "    pad_to_multiple_of=8,\n",
    ")\n",
    "\n",
    "# Create Trainer instance\n",
    "trainer = Seq2SeqTrainer(\n",
    "    model=model,\n",
    "    args=training_args,\n",
    "    train_dataset=tokenized_dataset[\"train\"],\n",
    "    eval_dataset=tokenized_dataset[\"test\"],\n",
    "    data_collator=data_collator,\n",
    ")\n",
    "model.config.use_cache = False\n",
    "\n",
    "trainer_stats = trainer.train()\n",
    "\n",
    "train_loss = trainer_stats.training_loss\n",
    "eval_stats = trainer.evaluate()\n",
    "eval_loss = eval_stats[\"eval_loss\"]\n",
    "print(f\"Training loss:{train_loss}|Val loss:{eval_loss}\")"
   ]
  },
  {
   "cell_type": "markdown",
   "id": "9cab8921-f0dc-43fc-a8de-6adf375c872a",
   "metadata": {},
   "source": [
    "## Inference and Evaluating"
   ]
  },
  {
   "cell_type": "markdown",
   "id": "mature-lancaster",
   "metadata": {},
   "source": [
    "#### Define what the instruction should look like:"
   ]
  },
  {
   "cell_type": "code",
   "execution_count": null,
   "id": "demonstrated-sampling",
   "metadata": {},
   "outputs": [],
   "source": [
    "INSTRUCTION = \"Summarize the following conversation in at most 3 sentences: \""
   ]
  },
  {
   "cell_type": "code",
   "execution_count": null,
   "id": "ae22b33a-1274-4ee0-97a6-0f9e39a8361f",
   "metadata": {},
   "outputs": [],
   "source": [
    "def infer_one_sample(model, tokenizer, prompt, max_target_length=50):\n",
    "    # generate summary\n",
    "    input_ids = tokenizer(\n",
    "        INSTRUCTION + prompt, return_tensors=\"pt\", truncation=True,\n",
    "    ).input_ids.cuda()\n",
    "\n",
    "    with torch.inference_mode():\n",
    "        outputs = model.generate(\n",
    "            input_ids=input_ids,\n",
    "            do_sample=True,\n",
    "            top_p=0.9,\n",
    "            max_new_tokens=max_target_length,\n",
    "        )\n",
    "        prediction = tokenizer.batch_decode(\n",
    "            outputs.detach().cpu().numpy(),\n",
    "            skip_special_tokens=True,\n",
    "        )[0]\n",
    "\n",
    "    return prediction"
   ]
  },
  {
   "cell_type": "code",
   "execution_count": null,
   "id": "d8364866-e386-4036-bccf-16f5a88f84aa",
   "metadata": {},
   "outputs": [],
   "source": [
    "metric = evaluate.load(\"rouge\")\n",
    "\n",
    "dataset = load_dataset(DATASET_NAME)\n",
    "test_dataset = dataset[\"test\"]\n",
    "\n",
    "model.eval()\n",
    "\n",
    "predictions, references = [], []\n",
    "ctr = 0\n",
    "for sample in tqdm(test_dataset):\n",
    "    prediction = infer_one_sample(model, tokenizer, sample[\"dialogue\"])\n",
    "    predictions.append(prediction)\n",
    "    summary = sample[\"summary\"]\n",
    "    references.append(summary)\n",
    "\n",
    "# For demo on 10 samples, uncomment the following block:\n",
    "\"\"\"\n",
    "if ctr == 10:\n",
    "    break\n",
    "ctr += 1\n",
    "\"\"\"\n",
    "\n",
    "# compute metric\n",
    "rouge = metric.compute(\n",
    "    predictions=predictions, references=references, use_stemmer=True,\n",
    ")\n",
    "\n",
    "# print results\n",
    "print(f\"rouge1: {rouge['rouge1']* 100:2f}%\")\n",
    "print(f\"rouge2: {rouge['rouge2']* 100:2f}%\")\n",
    "print(f\"rougeL: {rouge['rougeL']* 100:2f}%\")\n",
    "print(f\"rougeLsum: {rouge['rougeLsum']* 100:2f}%\")"
   ]
  }
 ],
 "metadata": {
  "kernelspec": {
   "display_name": "finetune_demo_1",
   "language": "python",
   "name": "finetune_demo_1"
  },
  "language_info": {
   "codemirror_mode": {
    "name": "ipython",
    "version": 3
   },
   "file_extension": ".py",
   "mimetype": "text/x-python",
   "name": "python",
   "nbconvert_exporter": "python",
   "pygments_lexer": "ipython3",
   "version": "3.10.12"
  }
 },
 "nbformat": 4,
 "nbformat_minor": 5
}
